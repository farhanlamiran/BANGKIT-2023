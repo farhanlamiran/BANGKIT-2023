{
  "cells": [
    {
      "cell_type": "code",
      "source": [
        "import tensorflow as tf\n",
        "from tensorflow import keras\n",
        "import numpy as np\n",
        "import matplotlib.pyplot as plt"
      ],
      "metadata": {
        "id": "mZpbgmptx0Go"
      },
      "execution_count": 11,
      "outputs": []
    },
    {
      "cell_type": "code",
      "source": [
        "fashion_mnist = tf.keras.datasets.fashion_mnist\n",
        "(train_images, train_labels), (test_images, test_labels) = fashion_mnist.load_data()"
      ],
      "metadata": {
        "colab": {
          "base_uri": "https://localhost:8080/"
        },
        "id": "wxMgkLUlx34i",
        "outputId": "8c2c7dbe-7ccc-4103-8382-a2acc1807a50"
      },
      "execution_count": 2,
      "outputs": [
        {
          "output_type": "stream",
          "name": "stdout",
          "text": [
            "Downloading data from https://storage.googleapis.com/tensorflow/tf-keras-datasets/train-labels-idx1-ubyte.gz\n",
            "29515/29515 [==============================] - 0s 0us/step\n",
            "Downloading data from https://storage.googleapis.com/tensorflow/tf-keras-datasets/train-images-idx3-ubyte.gz\n",
            "26421880/26421880 [==============================] - 0s 0us/step\n",
            "Downloading data from https://storage.googleapis.com/tensorflow/tf-keras-datasets/t10k-labels-idx1-ubyte.gz\n",
            "5148/5148 [==============================] - 0s 0us/step\n",
            "Downloading data from https://storage.googleapis.com/tensorflow/tf-keras-datasets/t10k-images-idx3-ubyte.gz\n",
            "4422102/4422102 [==============================] - 0s 0us/step\n"
          ]
        }
      ]
    },
    {
      "cell_type": "code",
      "source": [
        "index = 9\n",
        "np.set_printoptions(linewidth=320)\n",
        "print(f'LABEL: {train_labels[index]}')\n",
        "print(f'\\nIMAGE PIXEL ARRAY:\\n {train_images[index]}')\n",
        "plt.imshow(train_images[index], cmap='Greys')"
      ],
      "metadata": {
        "colab": {
          "base_uri": "https://localhost:8080/",
          "height": 985
        },
        "id": "VaRTE928x57L",
        "outputId": "58e9ca38-0684-410b-ef48-8ca4ab846ced"
      },
      "execution_count": 7,
      "outputs": [
        {
          "output_type": "stream",
          "name": "stdout",
          "text": [
            "LABEL: 5\n",
            "\n",
            "IMAGE PIXEL ARRAY:\n",
            " [[  0   0   0   0   0   0   0   0   0   0   0   0   0   0   0   0   0   0   0   0   0   0   0   0   0   0   0   0]\n",
            " [  0   0   0   0   0   0   0   0   0   0   0   0   0   0   0   0   0   0   0   0   0   0   0   0   0   0   0   0]\n",
            " [  0   0   0   0   0   0   0   0   0   0   0   0   0   1   1   0   0   0   0   0   0   0 164  50   0   7   0   0]\n",
            " [  0   0   0   0   0   0   0   0   1   0   0   1   0   0   1   1   0   0   5   0  45 217 255 176   0   6   0   0]\n",
            " [  0   0   0   0   0   0   0   0   0   1   1   0   3   3   5   9   0   2   0  62 236 231 215  27   0   1   0   0]\n",
            " [  0   0   0   0   0   0   0   0   0   0   0   0   0   0   0   0   0   0  29 244 231 234  74   0   1   0   0   0]\n",
            " [  0   0   0   0   0   0   0   0   0   2   0   0   0  23  41  59 111 134 138 226 202 217  22   0   1   0   0   0]\n",
            " [  0   0   0   0   0   0   0   0   0   5   0  35 179 195 182 225 198 241 177 199 205 210  26   0   1   0   0   3]\n",
            " [  0   0   0   0   0   0   0   0   0   0   0   0  19   0   0   0   0   0 235 243 198 119   0   3   1   3   4   0]\n",
            " [  0   0   0   0   0   0   0   0   0   0   0   0   0   2   5   0   0   0 170 252 181 182   0   0   0   0   0  19]\n",
            " [  0   0   0   0   0   0   0   0   0   0   0   0   1   1   0   0   4   0  76 255 183 219   9   0   0  42 191 164]\n",
            " [  0   0   0   0   0   0   0   0   0   0   0   0   0   0   0   0   2   0   0 237 198 204  75  47 221 221 238  25]\n",
            " [  0   0   0   0   0   0   0   0   0   0   0   1   0   0   1   2   1   0   0 209 212 229 255 254 232 227 174   0]\n",
            " [  0   0   0   0   0   0   0   0   0   0   0   0   0   0   1   0   0   0   0   0 210 255  87 101 230 238 105   0]\n",
            " [  0   0   0   0   0   0   0   0   0   0   0   0   0   1   0   4   1   0   1 250 236   0   0   0 224 233  20   0]\n",
            " [  0   0   0   0   0   1   3   4   4   2   0   0   0   1   0   2   0   0 204 185   0   0   0   6 227 202   0   0]\n",
            " [  0   1   0   1   0   0   0   0   0   0   0   0   0   1   0   0   0 173 159   0   0   2   0  10 237 153   0   0]\n",
            " [  0   0   1   0   0   0   0  40 138  21   0   0   2   0   8   0 132 195   0   0   0   0   0   8 240 118   0   1]\n",
            " [  5   6   4   0 132 232 208 208 241 217   0   0   0   1   0  29 217  35   0   9   0   2   0  25 238  58   0   2]\n",
            " [  0   0   0   0 181 255 231 233 219 238  77   0   0   0   0 196 145   0   0   0   0   2   0  49 228   0   0   2]\n",
            " [ 62  92   8   0 207 255 216 198 189 208 221   0   0   0 177 239  19   0   0   0   0   2   0  64 218   0   0   3]\n",
            " [ 96 249 223 211 237 243 211 228 255 252 255 138  38 175 242 173   0   0   0   0   0   2   0  89 204   0   0   2]\n",
            " [  0 197 240 240 237 219 222 244 235 243 244 255 255 234 233  45   0   2   0   0   0   2   0 105 188   0   0   0]\n",
            " [  0 165 253 224 229 242 244 232 239 242 243 237 230 230 207   0   0   1   0   0   0   9   0 120 165   0   8   0]\n",
            " [  0  45 255 252 253 241 229 223 230 235 240 239 233 245  65   0   2   0   0   0   0  10   0 128 143   0  10   0]\n",
            " [  0   0   0  72 202 255 255 255 255 255 255 255 255 194   0   0   2   0   0   0   0   8   0 186 160   0   9   0]\n",
            " [  0   0   0   0   0   0  38  89 135 162 180 179 152   0   0   1   0   0   0   0   0   1   0  68  29   0   3   0]\n",
            " [  0   0   0   0   0   0   0   0   0   0   0   0   0   0   0   0   0   0   0   0   0   0   0   0   0   0   0   0]]\n"
          ]
        },
        {
          "output_type": "execute_result",
          "data": {
            "text/plain": [
              "<matplotlib.image.AxesImage at 0x7f22b59d7100>"
            ]
          },
          "metadata": {},
          "execution_count": 7
        },
        {
          "output_type": "display_data",
          "data": {
            "text/plain": [
              "<Figure size 640x480 with 1 Axes>"
            ],
            "image/png": "[encoded data removed]"
          },
          "metadata": {}
        }
      ]
    },
    {
      "cell_type": "code",
      "source": [
        "# Normalize the image dari yang tadinya 0-255, menjadi 0-1. karena neural network akan lebih baik memproses jika direpresentasikan 0-1\n",
        "train_images = train_images / 255.0 # devide the entire of array with the max value\n",
        "test_iamges = test_images/ 255.0 # devide the entire of array with the max value"
      ],
      "metadata": {
        "id": "CfmeGC5ey1Sd"
      },
      "execution_count": 8,
      "outputs": []
    },
    {
      "cell_type": "code",
      "source": [
        "index = 9\n",
        "np.set_printoptions(linewidth=320)\n",
        "print(f'LABEL: {train_labels[index]}')\n",
        "print(f'\\nIMAGE PIXEL ARRAY:\\n {train_images[index]}')\n",
        "plt.imshow(train_images[index], cmap='Greys')"
      ],
      "metadata": {
        "colab": {
          "base_uri": "https://localhost:8080/",
          "height": 1000
        },
        "id": "p7UzBwoOzCrF",
        "outputId": "59343881-4933-4fce-b7fe-6052b036760c"
      },
      "execution_count": 9,
      "outputs": [
        {
          "output_type": "stream",
          "name": "stdout",
          "text": [
            "LABEL: 5\n",
            "\n",
            "IMAGE PIXEL ARRAY:\n",
            " [[0.         0.         0.         0.         0.         0.         0.         0.         0.         0.         0.         0.         0.         0.         0.         0.         0.         0.         0.         0.         0.         0.         0.         0.         0.         0.         0.         0.        ]\n",
            " [0.         0.         0.         0.         0.         0.         0.         0.         0.         0.         0.         0.         0.         0.         0.         0.         0.         0.         0.         0.         0.         0.         0.         0.         0.         0.         0.         0.        ]\n",
            " [0.         0.         0.         0.         0.         0.         0.         0.         0.         0.         0.         0.         0.         0.00392157 0.00392157 0.         0.         0.         0.         0.         0.         0.         0.64313725 0.19607843 0.         0.02745098 0.         0.        ]\n",
            " [0.         0.         0.         0.         0.         0.         0.         0.         0.00392157 0.         0.         0.00392157 0.         0.         0.00392157 0.00392157 0.         0.         0.01960784 0.         0.17647059 0.85098039 1.         0.69019608 0.         0.02352941 0.         0.        ]\n",
            " [0.         0.         0.         0.         0.         0.         0.         0.         0.         0.00392157 0.00392157 0.         0.01176471 0.01176471 0.01960784 0.03529412 0.         0.00784314 0.         0.24313725 0.9254902  0.90588235 0.84313725 0.10588235 0.         0.00392157 0.         0.        ]\n",
            " [0.         0.         0.         0.         0.         0.         0.         0.         0.         0.         0.         0.         0.         0.         0.         0.         0.         0.         0.11372549 0.95686275 0.90588235 0.91764706 0.29019608 0.         0.00392157 0.         0.         0.        ]\n",
            " [0.         0.         0.         0.         0.         0.         0.         0.         0.         0.00784314 0.         0.         0.         0.09019608 0.16078431 0.23137255 0.43529412 0.5254902  0.54117647 0.88627451 0.79215686 0.85098039 0.08627451 0.         0.00392157 0.         0.         0.        ]\n",
            " [0.         0.         0.         0.         0.         0.         0.         0.         0.         0.01960784 0.         0.1372549  0.70196078 0.76470588 0.71372549 0.88235294 0.77647059 0.94509804 0.69411765 0.78039216 0.80392157 0.82352941 0.10196078 0.         0.00392157 0.         0.         0.01176471]\n",
            " [0.         0.         0.         0.         0.         0.         0.         0.         0.         0.         0.         0.         0.0745098  0.         0.         0.         0.         0.         0.92156863 0.95294118 0.77647059 0.46666667 0.         0.01176471 0.00392157 0.01176471 0.01568627 0.        ]\n",
            " [0.         0.         0.         0.         0.         0.         0.         0.         0.         0.         0.         0.         0.         0.00784314 0.01960784 0.         0.         0.         0.66666667 0.98823529 0.70980392 0.71372549 0.         0.         0.         0.         0.         0.0745098 ]\n",
            " [0.         0.         0.         0.         0.         0.         0.         0.         0.         0.         0.         0.         0.00392157 0.00392157 0.         0.         0.01568627 0.         0.29803922 1.         0.71764706 0.85882353 0.03529412 0.         0.         0.16470588 0.74901961 0.64313725]\n",
            " [0.         0.         0.         0.         0.         0.         0.         0.         0.         0.         0.         0.         0.         0.         0.         0.         0.00784314 0.         0.         0.92941176 0.77647059 0.8        0.29411765 0.18431373 0.86666667 0.86666667 0.93333333 0.09803922]\n",
            " [0.         0.         0.         0.         0.         0.         0.         0.         0.         0.         0.         0.00392157 0.         0.         0.00392157 0.00784314 0.00392157 0.         0.         0.81960784 0.83137255 0.89803922 1.         0.99607843 0.90980392 0.89019608 0.68235294 0.        ]\n",
            " [0.         0.         0.         0.         0.         0.         0.         0.         0.         0.         0.         0.         0.         0.         0.00392157 0.         0.         0.         0.         0.         0.82352941 1.         0.34117647 0.39607843 0.90196078 0.93333333 0.41176471 0.        ]\n",
            " [0.         0.         0.         0.         0.         0.         0.         0.         0.         0.         0.         0.         0.         0.00392157 0.         0.01568627 0.00392157 0.         0.00392157 0.98039216 0.9254902  0.         0.         0.         0.87843137 0.91372549 0.07843137 0.        ]\n",
            " [0.         0.         0.         0.         0.         0.00392157 0.01176471 0.01568627 0.01568627 0.00784314 0.         0.         0.         0.00392157 0.         0.00784314 0.         0.         0.8        0.7254902  0.         0.         0.         0.02352941 0.89019608 0.79215686 0.         0.        ]\n",
            " [0.         0.00392157 0.         0.00392157 0.         0.         0.         0.         0.         0.         0.         0.         0.         0.00392157 0.         0.         0.         0.67843137 0.62352941 0.         0.         0.00784314 0.         0.03921569 0.92941176 0.6        0.         0.        ]\n",
            " [0.         0.         0.00392157 0.         0.         0.         0.         0.15686275 0.54117647 0.08235294 0.         0.         0.00784314 0.         0.03137255 0.         0.51764706 0.76470588 0.         0.         0.         0.         0.         0.03137255 0.94117647 0.4627451  0.         0.00392157]\n",
            " [0.01960784 0.02352941 0.01568627 0.         0.51764706 0.90980392 0.81568627 0.81568627 0.94509804 0.85098039 0.         0.         0.         0.00392157 0.         0.11372549 0.85098039 0.1372549  0.         0.03529412 0.         0.00784314 0.         0.09803922 0.93333333 0.22745098 0.         0.00784314]\n",
            " [0.         0.         0.         0.         0.70980392 1.         0.90588235 0.91372549 0.85882353 0.93333333 0.30196078 0.         0.         0.         0.         0.76862745 0.56862745 0.         0.         0.         0.         0.00784314 0.         0.19215686 0.89411765 0.         0.         0.00784314]\n",
            " [0.24313725 0.36078431 0.03137255 0.         0.81176471 1.         0.84705882 0.77647059 0.74117647 0.81568627 0.86666667 0.         0.         0.         0.69411765 0.9372549  0.0745098  0.         0.         0.         0.         0.00784314 0.         0.25098039 0.85490196 0.         0.         0.01176471]\n",
            " [0.37647059 0.97647059 0.8745098  0.82745098 0.92941176 0.95294118 0.82745098 0.89411765 1.         0.98823529 1.         0.54117647 0.14901961 0.68627451 0.94901961 0.67843137 0.         0.         0.         0.         0.         0.00784314 0.         0.34901961 0.8        0.         0.         0.00784314]\n",
            " [0.         0.77254902 0.94117647 0.94117647 0.92941176 0.85882353 0.87058824 0.95686275 0.92156863 0.95294118 0.95686275 1.         1.         0.91764706 0.91372549 0.17647059 0.         0.00784314 0.         0.         0.         0.00784314 0.         0.41176471 0.7372549  0.         0.         0.        ]\n",
            " [0.         0.64705882 0.99215686 0.87843137 0.89803922 0.94901961 0.95686275 0.90980392 0.9372549  0.94901961 0.95294118 0.92941176 0.90196078 0.90196078 0.81176471 0.         0.         0.00392157 0.         0.         0.         0.03529412 0.         0.47058824 0.64705882 0.         0.03137255 0.        ]\n",
            " [0.         0.17647059 1.         0.98823529 0.99215686 0.94509804 0.89803922 0.8745098  0.90196078 0.92156863 0.94117647 0.9372549  0.91372549 0.96078431 0.25490196 0.         0.00784314 0.         0.         0.         0.         0.03921569 0.         0.50196078 0.56078431 0.         0.03921569 0.        ]\n",
            " [0.         0.         0.         0.28235294 0.79215686 1.         1.         1.         1.         1.         1.         1.         1.         0.76078431 0.         0.         0.00784314 0.         0.         0.         0.         0.03137255 0.         0.72941176 0.62745098 0.         0.03529412 0.        ]\n",
            " [0.         0.         0.         0.         0.         0.         0.14901961 0.34901961 0.52941176 0.63529412 0.70588235 0.70196078 0.59607843 0.         0.         0.00392157 0.         0.         0.         0.         0.         0.00392157 0.         0.26666667 0.11372549 0.         0.01176471 0.        ]\n",
            " [0.         0.         0.         0.         0.         0.         0.         0.         0.         0.         0.         0.         0.         0.         0.         0.         0.         0.         0.         0.         0.         0.         0.         0.         0.         0.         0.         0.        ]]\n"
          ]
        },
        {
          "output_type": "execute_result",
          "data": {
            "text/plain": [
              "<matplotlib.image.AxesImage at 0x7f22b5849570>"
            ]
          },
          "metadata": {},
          "execution_count": 9
        },
        {
          "output_type": "display_data",
          "data": {
            "text/plain": [
              "<Figure size 640x480 with 1 Axes>"
            ],
            "image/png": "[encoded data removed]"
          },
          "metadata": {}
        }
      ]
    },
    {
      "cell_type": "code",
      "source": [
        "# ketika mencapai suatu patokan misal disini adalah loss < 0.4 maka epoch akan stop training, bisa juga patokannya accuracy\n",
        "class myCallback(tf.keras.callbacks.Callback):\n",
        "  def on_epoch_end(self, epoch, logs={}):\n",
        "    if(logs.get('loss') < 0.4):\n",
        "      print(\"\\Loss is lower than 0.4 so cancelling training!\")\n",
        "      self.model.stop_training= True\n",
        "\n",
        "callbacks = myCallback()"
      ],
      "metadata": {
        "id": "drxG2jw08AdG"
      },
      "execution_count": 33,
      "outputs": []
    },
    {
      "cell_type": "code",
      "source": [
        "# Sequential : that defines a sequence of layers in the neural network\n",
        "# Flatten : Flatten just takes that square and turns it intoa 1-dimensional array\n",
        "# Dense : adds a layer of neurons\n",
        "# Each layer of neurons need an activation function to tell them what to do\n",
        "\n",
        "model = tf.keras.models.Sequential([\n",
        "    tf.keras.layers.Flatten(), # first layer/ input layer / we input 28x28 pixel aka 784 pixel as an simple linear array\n",
        "    tf.keras.layers.Dense(128, activation=tf.nn.relu), # mid layer/ hidden layer, we use 128 hidden layer\n",
        "    tf.keras.layers.Dense(10, activation=tf.nn.softmax) # last layer / output layer, we want 10 class as output\n",
        "])"
      ],
      "metadata": {
        "id": "q3s4TqxVyNfb"
      },
      "execution_count": 20,
      "outputs": []
    },
    {
      "cell_type": "code",
      "source": [
        "# KNOW MORE ABOUT SOFTMAX FUNCT (softmax funct biasa digunakan untuk output layer)\n",
        "# Declare sample inputs and convert to a tensor\n",
        "inputs = np.array([[1.0, 3.0, 4.0, 2.0]]) # misal kita punya 4 class\n",
        "inputs = tf.convert_to_tensor(inputs)\n",
        "print(f'input to softmax function: {inputs.numpy()}')\n",
        "\n",
        "# feed the inputs to a softmax activation function\n",
        "outputs = tf.keras.activations.softmax(inputs) #list 4 class di atas di ambil dan discale sehingga jika list digabungkan maka = 1\n",
        "print(f'output of softmax function: {outputs.numpy()}') #value terbesar ketika sudah discale menandakan that the model very confident with the input = value terbesar\n",
        "\n",
        "# Get the sum of all values after the softmax\n",
        "sum = tf.reduce_sum(outputs)\n",
        "print(f'sum of outputs: {sum}')\n",
        "\n",
        "# Get the index with highest value\n",
        "prediction = np.argmax(outputs)\n",
        "print(f'class with hightest probability: {prediction}')"
      ],
      "metadata": {
        "colab": {
          "base_uri": "https://localhost:8080/"
        },
        "id": "1qffFD6t14Tf",
        "outputId": "ad866c1d-97a9-4831-b00b-f640060b2fd1"
      },
      "execution_count": 27,
      "outputs": [
        {
          "output_type": "stream",
          "name": "stdout",
          "text": [
            "input to softmax function: [[1. 3. 4. 2.]]\n",
            "output of softmax function: [[0.0320586  0.23688282 0.64391426 0.08714432]]\n",
            "sum of outputs: 1.0\n",
            "class with hightest probability: 2\n"
          ]
        }
      ]
    },
    {
      "cell_type": "code",
      "source": [
        "model.compile(optimizer = tf.optimizers.Adam(),\n",
        "              loss = 'sparse_categorical_crossentropy', # nilai loss harus turun\n",
        "              metrics = ['accuracy']) # accurcy harus naik\n",
        "\n",
        "model.fit(train_images, train_labels, epochs=5, callbacks=[callbacks])"
      ],
      "metadata": {
        "colab": {
          "base_uri": "https://localhost:8080/"
        },
        "id": "hsDb2ljF5kts",
        "outputId": "22886a21-3779-4c77-e747-c43ded3c2a66"
      },
      "execution_count": 34,
      "outputs": [
        {
          "output_type": "stream",
          "name": "stdout",
          "text": [
            "Epoch 1/5\n",
            "1874/1875 [============================>.] - ETA: 0s - loss: 0.2651 - accuracy: 0.9000\\Loss is lower than 0.4 so cancelling training!\n",
            "1875/1875 [==============================] - 6s 3ms/step - loss: 0.2652 - accuracy: 0.9000\n"
          ]
        },
        {
          "output_type": "execute_result",
          "data": {
            "text/plain": [
              "<keras.callbacks.History at 0x7f22b9cc0670>"
            ]
          },
          "metadata": {},
          "execution_count": 34
        }
      ]
    },
    {
      "cell_type": "code",
      "source": [
        "model.evaluate(test_iamges,test_labels) # will return the test loss and accuracy"
      ],
      "metadata": {
        "colab": {
          "base_uri": "https://localhost:8080/"
        },
        "id": "EPMfJGFd6bK2",
        "outputId": "9f8d9638-971d-460f-8e4c-c4ea35d96a91"
      },
      "execution_count": 32,
      "outputs": [
        {
          "output_type": "stream",
          "name": "stdout",
          "text": [
            "313/313 [==============================] - 1s 1ms/step - loss: 0.3393 - accuracy: 0.8783\n"
          ]
        },
        {
          "output_type": "execute_result",
          "data": {
            "text/plain": [
              "[0.33927616477012634, 0.8783000111579895]"
            ]
          },
          "metadata": {},
          "execution_count": 32
        }
      ]
    }
  ],
  "metadata": {
    "colab": {
      "name": "Welcome To Colaboratory",
      "toc_visible": true,
      "provenance": []
    },
    "kernelspec": {
      "display_name": "Python 3",
      "name": "python3"
    }
  },
  "nbformat": 4,
  "nbformat_minor": 0
}